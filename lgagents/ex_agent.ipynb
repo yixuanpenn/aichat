{
 "cells": [
  {
   "cell_type": "code",
   "execution_count": 6,
   "id": "initial_id",
   "metadata": {
    "collapsed": true,
    "ExecuteTime": {
     "end_time": "2023-10-30T09:54:30.912600900Z",
     "start_time": "2023-10-30T09:53:45.091348800Z"
    }
   },
   "outputs": [
    {
     "name": "stdout",
     "output_type": "stream",
     "text": [
      "\n",
      "\n",
      "\u001B[1m> Entering new AgentExecutor chain...\u001B[0m\n",
      "\u001B[32;1m\u001B[1;3mI should use a search engine to find out who Leo DiCaprio's girlfriend is.\n",
      "Action: Search\n",
      "Action Input: Leo DiCaprio girlfriend\u001B[0m\n",
      "Observation: \u001B[36;1m\u001B[1;3m10/29/2023 2:06 PM PT The actor and his latest Italian model boo, Vittoria Ceretti, were at a Halloween house party Saturday night on the outskirts of West Hollywood -- which ran late into the next morning, which is when this handsy PDA moment went down between the relatively fresh couple.\u001B[0m\n",
      "Thought:\u001B[32;1m\u001B[1;3mI now know Leo DiCaprio's girlfriend is Vittoria Ceretti.\n",
      "Thought: I should use a calculator to calculate Vittoria Ceretti's current age raised to the 0.43 power.\n",
      "Action: Calculator\n",
      "Action Input: 26^0.43\u001B[0m\n",
      "Observation: \u001B[33;1m\u001B[1;3mAnswer: 4.059182145592686\u001B[0m\n",
      "Thought:\u001B[32;1m\u001B[1;3mI now know the final answer.\n",
      "Final Answer: Leo DiCaprio's girlfriend is Vittoria Ceretti and her current age raised to the 0.43 power is approximately 4!\u001B[0m\n",
      "\n",
      "\u001B[1m> Finished chain.\u001B[0m\n"
     ]
    },
    {
     "data": {
      "text/plain": "\"Leo DiCaprio's girlfriend is Vittoria Ceretti and her current age raised to the 0.43 power is approximately 4!\""
     },
     "execution_count": 6,
     "metadata": {},
     "output_type": "execute_result"
    }
   ],
   "source": [
    "# google serpapi\n",
    "\n",
    "#！pip install google-search-results\n",
    "#！pip install numexpr\n",
    "\n",
    "from langchain.agents import load_tools\n",
    "from langchain.agents import initialize_agent\n",
    "from langchain.agents import AgentType\n",
    "from langchain.chat_models import ChatOpenAI\n",
    "import os\n",
    "\n",
    "# 加载语言模型\n",
    "inference_server_url = \"http://route.superlee.site:21877/v1\"\n",
    "#inference_server_url = \"http://localhost:8777/v1\"\n",
    "\n",
    "llm = ChatOpenAI(\n",
    "    model=\"Qwen14/qwen-14b-chat\",\n",
    "    openai_api_key=\"EMPTY\",\n",
    "    openai_api_base=inference_server_url,\n",
    "    max_tokens=5,\n",
    "    temperature=0,\n",
    ")\n",
    "\n",
    "os.environ[\"SERPAPI_API_KEY\"] = \"0604eae617e14a9dcd9ca26e860c6eaf07867039675ca79340ead0ceebfe22d0\"\n",
    "\n",
    "# 加载工具\n",
    "tools = load_tools([\"serpapi\", \"llm-math\"], llm=llm)\n",
    "\n",
    "# 初始化代理人\n",
    "agent = initialize_agent(tools, llm, agent=AgentType.ZERO_SHOT_REACT_DESCRIPTION, verbose=True)\n",
    "\n",
    "# 运行测试\n",
    "agent.run(\"Who is Leo DiCaprio's girlfriend? What is her current age raised to the 0.43 power?\")\n",
    " \n",
    " \n",
    " "
   ]
  },
  {
   "cell_type": "code",
   "execution_count": 7,
   "outputs": [
    {
     "name": "stdout",
     "output_type": "stream",
     "text": [
      "\n",
      "\n",
      "\u001B[1m> Entering new AgentExecutor chain...\u001B[0m\n",
      "\u001B[32;1m\u001B[1;3mYes.\n",
      "Follow up: Who is the reigning men's U.S. Open champion?\u001B[0m\n",
      "Intermediate answer: \u001B[36;1m\u001B[1;3mNovak Djokovic beat Daniil Medvedev 6-3, 7-6(5), 6-3 to win his fourth US Open title and equal Margaret Court's all-time record of 24 Grand Slams on Sunday. Djokovic, 36, became the oldest men's champion at Flushing Meadows, surpassing Ken Rosewall who won the 1970 edition at the age of 35.\u001B[0m\n",
      "\u001B[32;1m\u001B[1;3mFollow up: Where is Novak Djokovic from?\u001B[0m\n",
      "Intermediate answer: \u001B[36;1m\u001B[1;3mBelgrade, Serbia\u001B[0m\n",
      "\u001B[32;1m\u001B[1;3mSo the final answer is: Belgrade, Serbia.\u001B[0m\n",
      "\n",
      "\u001B[1m> Finished chain.\u001B[0m\n"
     ]
    },
    {
     "data": {
      "text/plain": "'Belgrade, Serbia.'"
     },
     "execution_count": 7,
     "metadata": {},
     "output_type": "execute_result"
    }
   ],
   "source": [
    "# GoogleSerperAPIWrapper 自问自答链\n",
    "from langchain.utilities import GoogleSerperAPIWrapper\n",
    "from langchain.chat_models import ChatOpenAI\n",
    "from langchain.agents import initialize_agent, Tool\n",
    "from langchain.agents import AgentType\n",
    " \n",
    "# 加载语言模型\n",
    "inference_server_url = \"http://route.superlee.site:21877/v1\"\n",
    "#inference_server_url = \"http://localhost:8777/v1\"\n",
    "\n",
    "llm = ChatOpenAI(\n",
    "    model=\"Qwen14/qwen-14b-chat\",\n",
    "    openai_api_key=\"EMPTY\",\n",
    "    openai_api_base=inference_server_url,\n",
    "    max_tokens=5,\n",
    "    temperature=0,\n",
    ")\n",
    "\n",
    "search = GoogleSerperAPIWrapper()\n",
    "tools = [\n",
    "    Tool(\n",
    "        name=\"Intermediate Answer\",\n",
    "        func=search.run,\n",
    "        description=\"useful for when you need to ask with search\"\n",
    "    )\n",
    "]\n",
    " \n",
    "self_ask_with_search = initialize_agent(tools, llm, agent=AgentType.SELF_ASK_WITH_SEARCH, verbose=True)\n",
    "self_ask_with_search.run(\"What is the hometown of the reigning men's U.S. Open champion?\")\n",
    " "
   ],
   "metadata": {
    "collapsed": false,
    "ExecuteTime": {
     "end_time": "2023-10-30T10:01:26.433789Z",
     "start_time": "2023-10-30T10:01:04.840222900Z"
    }
   },
   "id": "839e47c114fbcc1a"
  },
  {
   "cell_type": "code",
   "execution_count": null,
   "outputs": [],
   "source": [],
   "metadata": {
    "collapsed": false
   },
   "id": "eeeb2ee8d858e80"
  }
 ],
 "metadata": {
  "kernelspec": {
   "display_name": "Python 3",
   "language": "python",
   "name": "python3"
  },
  "language_info": {
   "codemirror_mode": {
    "name": "ipython",
    "version": 2
   },
   "file_extension": ".py",
   "mimetype": "text/x-python",
   "name": "python",
   "nbconvert_exporter": "python",
   "pygments_lexer": "ipython2",
   "version": "2.7.6"
  }
 },
 "nbformat": 4,
 "nbformat_minor": 5
}
